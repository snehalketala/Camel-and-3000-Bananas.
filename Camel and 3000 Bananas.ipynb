{
 "cells": [
  {
   "cell_type": "code",
   "execution_count": 1,
   "id": "8a7cb083",
   "metadata": {},
   "outputs": [
    {
     "name": "stdout",
     "output_type": "stream",
     "text": [
      "Enter no. of bananas at starting: 3000\n",
      "Enter distance you want to cover: 1000\n",
      "Enter max load capacity of your camel: 1000\n",
      "533\n"
     ]
    }
   ],
   "source": [
    "total=int(input('Enter no. of bananas at starting: '))\n",
    "distance=int(input('Enter distance you want to cover: '))\n",
    "load_capacity=int(input('Enter max load capacity of your camel: '))\n",
    "lose=0\n",
    "start=total\n",
    "for i in range(distance):\n",
    "    while start>0:\n",
    "        start=start-load_capacity\n",
    "\n",
    "        if start==1:\n",
    "            lose=lose-1\n",
    "        lose=lose+2\n",
    "\n",
    "    lose=lose-1\n",
    "    start=total-lose\n",
    "    if start==0:\n",
    "        break\n",
    "print(start)"
   ]
  },
  {
   "cell_type": "code",
   "execution_count": null,
   "id": "3d780357",
   "metadata": {},
   "outputs": [],
   "source": []
  }
 ],
 "metadata": {
  "kernelspec": {
   "display_name": "Python 3",
   "language": "python",
   "name": "python3"
  },
  "language_info": {
   "codemirror_mode": {
    "name": "ipython",
    "version": 3
   },
   "file_extension": ".py",
   "mimetype": "text/x-python",
   "name": "python",
   "nbconvert_exporter": "python",
   "pygments_lexer": "ipython3",
   "version": "3.8.8"
  }
 },
 "nbformat": 4,
 "nbformat_minor": 5
}
